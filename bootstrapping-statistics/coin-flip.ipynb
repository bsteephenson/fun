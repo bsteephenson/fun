{
 "cells": [
  {
   "cell_type": "code",
   "execution_count": 1,
   "metadata": {},
   "outputs": [
    {
     "data": {
      "text/plain": [
       "1"
      ]
     },
     "execution_count": 1,
     "metadata": {},
     "output_type": "execute_result"
    }
   ],
   "source": [
    "import numpy as np\n",
    "\n",
    "REAL_P = .42\n",
    "\n",
    "# Returns a 1 with probability P, 0 with probability 1-P\n",
    "def flip(P):\n",
    "    return np.random.choice([0, 1], p = [1-P, P])\n",
    "flip(.5)"
   ]
  },
  {
   "cell_type": "code",
   "execution_count": 5,
   "metadata": {},
   "outputs": [
    {
     "name": "stdout",
     "output_type": "stream",
     "text": [
      "[0, 1, 0, 1, 0, 0, 0, 1, 1, 1, 1, 1, 1, 1, 1, 0, 0, 0, 0, 0, 1, 0, 0, 0, 0, 1, 1, 0, 1, 1, 0, 1, 0, 0, 0, 1, 1, 0, 1, 1, 1, 0, 0, 0, 0, 1, 1, 0, 0, 0, 1, 1, 0, 1, 1, 1, 0, 1, 1, 0, 0, 0, 1, 0, 0, 1, 0, 1, 0, 1, 0, 1, 0, 0, 0, 0, 1, 0, 0, 1, 1, 1, 0, 1, 0, 0, 0, 0, 0, 0, 1, 1, 0, 1, 0, 0, 0, 0, 0, 0]\n"
     ]
    }
   ],
   "source": [
    "# Generate our sample\n",
    "N = 100\n",
    "sample = [flip(REAL_P) for i in range(N)]\n",
    "print(sample)"
   ]
  },
  {
   "cell_type": "code",
   "execution_count": 6,
   "metadata": {},
   "outputs": [
    {
     "name": "stdout",
     "output_type": "stream",
     "text": [
      "0.43\n"
     ]
    }
   ],
   "source": [
    "def estimate_p(sample):\n",
    "    return sum(sample) / len(sample)\n",
    "print(estimate_p(sample))"
   ]
  },
  {
   "cell_type": "code",
   "execution_count": 7,
   "metadata": {
    "collapsed": true
   },
   "outputs": [],
   "source": [
    "# Number of resamples\n",
    "B = 10000\n",
    "\n",
    "# Size of each resample\n",
    "resample_size = int(N - 1)\n",
    "\n",
    "def resample_estimate():\n",
    "    # Take a sample\n",
    "    resample = np.random.choice(sample, size = resample_size, replace = True)\n",
    "    # Return the estimate\n",
    "    return estimate_p(resample)\n",
    "    \n",
    "resample_dist = [resample_estimate() for i in range(B)]"
   ]
  },
  {
   "cell_type": "code",
   "execution_count": 8,
   "metadata": {
    "scrolled": true
   },
   "outputs": [
    {
     "data": {
      "text/plain": [
       "<matplotlib.axes._subplots.AxesSubplot at 0x109c61748>"
      ]
     },
     "execution_count": 8,
     "metadata": {},
     "output_type": "execute_result"
    },
    {
     "data": {
      "image/png": "[encoded data removed]",
      "text/plain": [
       "<matplotlib.figure.Figure at 0x104b50208>"
      ]
     },
     "metadata": {},
     "output_type": "display_data"
    }
   ],
   "source": [
    "# Plot the resampling distribution (just for fun)\n",
    "%matplotlib inline\n",
    "import seaborn\n",
    "seaborn.distplot(resample_dist)"
   ]
  },
  {
   "cell_type": "code",
   "execution_count": 9,
   "metadata": {
    "scrolled": true
   },
   "outputs": [
    {
     "name": "stdout",
     "output_type": "stream",
     "text": [
      "Confidence interval: ( 0.33288069831 ,  0.52711930169 )\n"
     ]
    }
   ],
   "source": [
    "# Oh wow so normal looking\n",
    "\n",
    "# Now let's use the standard deviation of the resampled distribution\n",
    "# to construct a 95% confidence interval of our estimate\n",
    "estimated_p = estimate_p(sample)\n",
    "stddev = np.std(resample_dist)\n",
    "error = 1.96 * stddev\n",
    "print(\"Confidence interval: (\", estimated_p - error, \", \", estimated_p + error, \")\")"
   ]
  },
  {
   "cell_type": "code",
   "execution_count": 15,
   "metadata": {},
   "outputs": [
    {
     "data": {
      "text/plain": [
       "<matplotlib.axes._subplots.AxesSubplot at 0x10aa11898>"
      ]
     },
     "execution_count": 15,
     "metadata": {},
     "output_type": "execute_result"
    },
    {
     "data": {
      "image/png": "[encoded data removed]",
      "text/plain": [
       "<matplotlib.figure.Figure at 0x104b50198>"
      ]
     },
     "metadata": {},
     "output_type": "display_data"
    }
   ],
   "source": [
    "# Now let's try hypothesis testing.\n",
    "# Let the null hypothesis be that this is a fair coin (p = .5)\n",
    "# We generate a ton of samples given this assumption and we see how unlikely is our sample\n",
    "\n",
    "B = 10000\n",
    "def make_sample_estimate():\n",
    "    heads = 0\n",
    "    for i in range(N):\n",
    "        heads = heads + flip(.5)\n",
    "    return heads / N\n",
    "null_samples = [make_sample_estimate() for j in range(B)]\n",
    "seaborn.distplot(null_samples)"
   ]
  },
  {
   "cell_type": "code",
   "execution_count": 16,
   "metadata": {},
   "outputs": [
    {
     "data": {
      "text/plain": [
       "0.0962"
      ]
     },
     "execution_count": 16,
     "metadata": {},
     "output_type": "execute_result"
    }
   ],
   "source": [
    "# In our sample distribution (assuming the null hypotheses),\n",
    "# how unlikely is our sample's estimated_p?\n",
    "\n",
    "count = 0\n",
    "for p in null_samples:\n",
    "    if p <= estimated_p:\n",
    "        count = count + 1\n",
    "count / B\n"
   ]
  },
  {
   "cell_type": "code",
   "execution_count": null,
   "metadata": {
    "collapsed": true
   },
   "outputs": [],
   "source": []
  }
 ],
 "metadata": {
  "kernelspec": {
   "display_name": "Python 3",
   "language": "python",
   "name": "python3"
  },
  "language_info": {
   "codemirror_mode": {
    "name": "ipython",
    "version": 3
   },
   "file_extension": ".py",
   "mimetype": "text/x-python",
   "name": "python",
   "nbconvert_exporter": "python",
   "pygments_lexer": "ipython3",
   "version": "3.6.1"
  }
 },
 "nbformat": 4,
 "nbformat_minor": 2
}
