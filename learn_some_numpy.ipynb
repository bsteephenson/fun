{
 "cells": [
  {
   "cell_type": "code",
   "execution_count": 1,
   "metadata": {
    "collapsed": true
   },
   "outputs": [],
   "source": [
    "# Purpose of this all is to get more comfy with numpy\n",
    "# plus I don't really understand how numpy maps to matrices and tensors and how the axises work\n",
    "# or broadcasting... much to do!\n",
    "\n",
    "import numpy as np"
   ]
  },
  {
   "cell_type": "code",
   "execution_count": 5,
   "metadata": {
    "collapsed": false
   },
   "outputs": [
    {
     "data": {
      "text/plain": [
       "(3, 2)"
      ]
     },
     "execution_count": 5,
     "metadata": {},
     "output_type": "execute_result"
    }
   ],
   "source": [
    "# Matrix shapes\n",
    "\n",
    "\n",
    "A = np.asarray([ [1, 2] , [3, 4] , [5, 6] ])\n",
    "\n",
    "A.shape\n"
   ]
  },
  {
   "cell_type": "code",
   "execution_count": 6,
   "metadata": {
    "collapsed": false
   },
   "outputs": [
    {
     "data": {
      "text/plain": [
       "(1, 2, 3)"
      ]
     },
     "execution_count": 6,
     "metadata": {},
     "output_type": "execute_result"
    }
   ],
   "source": [
    "# A's shape is (3, 2) because it's an array of 3 elements, each element is an array of 2 elements\n",
    "\n",
    "# So logically this array's shape should be (1, 2, 3)\n",
    "np.asarray([ [[1,2,3],[4,5,6]] ]).shape\n"
   ]
  },
  {
   "cell_type": "code",
   "execution_count": 9,
   "metadata": {
    "collapsed": false
   },
   "outputs": [
    {
     "ename": "ValueError",
     "evalue": "shapes (3,2) and (3,) not aligned: 2 (dim 1) != 3 (dim 0)",
     "output_type": "error",
     "traceback": [
      "\u001b[0;31m---------------------------------------------------------------------------\u001b[0m",
      "\u001b[0;31mValueError\u001b[0m                                Traceback (most recent call last)",
      "\u001b[0;32m<ipython-input-9-6e775fbaed99>\u001b[0m in \u001b[0;36m<module>\u001b[0;34m()\u001b[0m\n\u001b[1;32m      5\u001b[0m \u001b[0;31m# A's shape is (3, 2) so you would think it's a linear map fro R^3 to R^2\u001b[0m\u001b[0;34m\u001b[0m\u001b[0;34m\u001b[0m\u001b[0m\n\u001b[1;32m      6\u001b[0m \u001b[0mv\u001b[0m \u001b[0;34m=\u001b[0m \u001b[0mnp\u001b[0m\u001b[0;34m.\u001b[0m\u001b[0masarray\u001b[0m\u001b[0;34m(\u001b[0m\u001b[0;34m[\u001b[0m\u001b[0;36m1\u001b[0m\u001b[0;34m,\u001b[0m \u001b[0;36m2\u001b[0m\u001b[0;34m,\u001b[0m \u001b[0;36m3\u001b[0m\u001b[0;34m]\u001b[0m\u001b[0;34m)\u001b[0m\u001b[0;34m\u001b[0m\u001b[0m\n\u001b[0;32m----> 7\u001b[0;31m \u001b[0mnp\u001b[0m\u001b[0;34m.\u001b[0m\u001b[0mdot\u001b[0m\u001b[0;34m(\u001b[0m\u001b[0mA\u001b[0m\u001b[0;34m,\u001b[0m \u001b[0mv\u001b[0m\u001b[0;34m)\u001b[0m\u001b[0;34m\u001b[0m\u001b[0m\n\u001b[0m",
      "\u001b[0;31mValueError\u001b[0m: shapes (3,2) and (3,) not aligned: 2 (dim 1) != 3 (dim 0)"
     ]
    }
   ],
   "source": [
    "# Matrix multiply\n",
    "\n",
    "A = np.asarray([ [1, 2] , [3, 4] , [5, 6] ])\n",
    "\n",
    "# A's shape is (3, 2) so you would think it's a linear map fro R^3 to R^2 ?\n",
    "v = np.asarray([1, 2, 3])\n",
    "np.dot(A, v)\n"
   ]
  },
  {
   "cell_type": "code",
   "execution_count": 12,
   "metadata": {
    "collapsed": false
   },
   "outputs": [
    {
     "name": "stdout",
     "output_type": "stream",
     "text": [
      "[1 3 5]\n",
      "[2 4 6]\n"
     ]
    }
   ],
   "source": [
    "# Doesn't align, much sad\n",
    "# It expected something in R^2\n",
    "\n",
    "A = np.asarray([ [1, 2] , [3, 4] , [5, 6] ])\n",
    "\n",
    "print(np.dot(A, np.asarray([1, 0])))\n",
    "print(np.dot(A, np.asarray([0, 1])))\n",
    "\n",
    "# This means that when we do np.asarray, it's reading row vectors\n",
    "# And the shape is (rows, cols)\n"
   ]
  },
  {
   "cell_type": "code",
   "execution_count": 55,
   "metadata": {
    "collapsed": false
   },
   "outputs": [
    {
     "name": "stdout",
     "output_type": "stream",
     "text": [
      "(2, 1)\n",
      "(3, 2)\n"
     ]
    },
    {
     "ename": "ValueError",
     "evalue": "shapes (2,1) and (3,2) not aligned: 1 (dim 1) != 3 (dim 0)",
     "output_type": "error",
     "traceback": [
      "\u001b[0;31m---------------------------------------------------------------------------\u001b[0m",
      "\u001b[0;31mValueError\u001b[0m                                Traceback (most recent call last)",
      "\u001b[0;32m<ipython-input-55-07eb02b3972e>\u001b[0m in \u001b[0;36m<module>\u001b[0;34m()\u001b[0m\n\u001b[1;32m     12\u001b[0m \u001b[0mprint\u001b[0m\u001b[0;34m(\u001b[0m\u001b[0mA\u001b[0m\u001b[0;34m.\u001b[0m\u001b[0mshape\u001b[0m\u001b[0;34m)\u001b[0m\u001b[0;34m\u001b[0m\u001b[0m\n\u001b[1;32m     13\u001b[0m \u001b[0mprint\u001b[0m\u001b[0;34m(\u001b[0m\u001b[0mB\u001b[0m\u001b[0;34m.\u001b[0m\u001b[0mshape\u001b[0m\u001b[0;34m)\u001b[0m\u001b[0;34m\u001b[0m\u001b[0m\n\u001b[0;32m---> 14\u001b[0;31m \u001b[0mprint\u001b[0m\u001b[0;34m(\u001b[0m\u001b[0mnp\u001b[0m\u001b[0;34m.\u001b[0m\u001b[0mmatmul\u001b[0m\u001b[0;34m(\u001b[0m\u001b[0mA\u001b[0m\u001b[0;34m,\u001b[0m \u001b[0mB\u001b[0m\u001b[0;34m)\u001b[0m\u001b[0;34m.\u001b[0m\u001b[0mshape\u001b[0m\u001b[0;34m)\u001b[0m\u001b[0;34m\u001b[0m\u001b[0m\n\u001b[0m",
      "\u001b[0;31mValueError\u001b[0m: shapes (2,1) and (3,2) not aligned: 1 (dim 1) != 3 (dim 0)"
     ]
    }
   ],
   "source": [
    "# Matrix matrix multiply\n",
    "\n",
    "# Let's multiply something from R^1 => R^2 and something from R^2 => R^3\n",
    "# Expect something from R^1 => R^3\n",
    "# Multiply a (2, 1) by a (3, 2) to get a (3, 1)\n",
    "\n",
    "# Writing things out in row for is so confusing omg, I'm going to write it out in column form and transpose\n",
    "\n",
    "A = np.asarray([[1, 2]]).T\n",
    "B = np.asarray([[3, 4, 5], [6, 7, 8]]).T\n",
    "\n",
    "print(A.shape)\n",
    "print(B.shape)\n",
    "print(np.matmul(A, B).shape)\n"
   ]
  },
  {
   "cell_type": "code",
   "execution_count": 56,
   "metadata": {
    "collapsed": false
   },
   "outputs": [
    {
     "name": "stdout",
     "output_type": "stream",
     "text": [
      "(3, 1)\n"
     ]
    }
   ],
   "source": [
    "# Rookie mistake, to compose A with B, it's B(A(x))\n",
    "\n",
    "print(np.matmul(B, A).shape)"
   ]
  },
  {
   "cell_type": "code",
   "execution_count": 58,
   "metadata": {
    "collapsed": false
   },
   "outputs": [
    {
     "name": "stdout",
     "output_type": "stream",
     "text": [
      "(2, 3, 4)\n",
      "(6, 3)\n",
      "(2, 6, 4)\n"
     ]
    }
   ],
   "source": [
    "# Tensor multiply\n",
    "\n",
    "# Let's say I had an array of matrices\n",
    "\n",
    "# Represents 2 images of 3 rows x 4 cols pixels\n",
    "A = np.zeros((2, 3, 4)) \n",
    "\n",
    "# An there's some matrix I want to compose with each of those images\n",
    "B = np.zeros( (6, 3))\n",
    "\n",
    "print(A.shape)\n",
    "print(B.shape)\n",
    "print(np.matmul(B, A).shape)\n",
    "\n",
    "# I think it broadcasts B to some higher dimensional thing in the process\n"
   ]
  },
  {
   "cell_type": "code",
   "execution_count": 68,
   "metadata": {
    "collapsed": false
   },
   "outputs": [
    {
     "name": "stdout",
     "output_type": "stream",
     "text": [
      "(2, 6, 5, 4)\n"
     ]
    }
   ],
   "source": [
    "# Lets say I had an array of matrices again\n",
    "\n",
    "# But this time, my transformation takes vectors and spits out matrices\n",
    "\n",
    "A = np.zeros((2, 3, 4))\n",
    "\n",
    "B = np.zeros((6, 5, 3))\n",
    "\n",
    "# This would take the 4 columns of A and turn each into a 6 x 5 matrix\n",
    "\n",
    "# I could reshape B and then do a matmul and then reshape again..\n",
    "print(np.matmul(B.reshape((6 * 5, 3)), A).reshape((2, 6, 5, 4)).shape)\n",
    "\n",
    "# Honestly this is probably a ton easier than figuring out tensordots\n",
    "# Reshape things into matrices, matmul, then reshape back into whatever you intended in the beginning\n",
    "# Starting from general axises to more granular axises\n",
    "# (like in this case axis 0 is the set of images and axes 1 and 2 are the image itself)\n"
   ]
  },
  {
   "cell_type": "code",
   "execution_count": 81,
   "metadata": {
    "collapsed": false
   },
   "outputs": [
    {
     "name": "stdout",
     "output_type": "stream",
     "text": [
      "0.0\n",
      "(3, 4, 5, 6)\n",
      "(2, 4, 5, 6)\n",
      "(2, 3, 5, 6)\n",
      "(2, 3, 4, 6)\n",
      "(4, 5, 6)\n",
      "(3, 4, 5)\n",
      "(2, 4, 6)\n"
     ]
    }
   ],
   "source": [
    "# So how do these axes work??\n",
    "\n",
    "A = np.zeros((2, 3, 4, 5, 6))\n",
    "# Add everything\n",
    "print(A.sum())\n",
    "\n",
    "print(A.sum(axis=(0)).shape)\n",
    "print(A.sum(axis=(1)).shape)\n",
    "print(A.sum(axis=(2)).shape)\n",
    "print(A.sum(axis=(3)).shape)\n",
    "\n",
    "print(A.sum(axis=(0, 1)).shape)\n",
    "print(A.sum(axis=(0, 4)).shape)\n",
    "print(A.sum(axis=(3, 1)).shape)\n"
   ]
  },
  {
   "cell_type": "code",
   "execution_count": 82,
   "metadata": {
    "collapsed": false
   },
   "outputs": [
    {
     "data": {
      "text/plain": [
       "array([4, 6])"
      ]
     },
     "execution_count": 82,
     "metadata": {},
     "output_type": "execute_result"
    }
   ],
   "source": [
    "# Summing over specific axises deletes those axises\n",
    "\n",
    "# So if I had a matrix and I sum over axis 0 (the rows)\n",
    "# I actually get back sum of each column\n",
    "\n",
    "A = np.asarray([[1, 2], [3, 4]])\n",
    "\n",
    "A.sum(axis=0)\n"
   ]
  },
  {
   "cell_type": "code",
   "execution_count": null,
   "metadata": {
    "collapsed": true
   },
   "outputs": [],
   "source": []
  }
 ],
 "metadata": {
  "kernelspec": {
   "display_name": "Python 3",
   "language": "python",
   "name": "python3"
  },
  "language_info": {
   "codemirror_mode": {
    "name": "ipython",
    "version": 3
   },
   "file_extension": ".py",
   "mimetype": "text/x-python",
   "name": "python",
   "nbconvert_exporter": "python",
   "pygments_lexer": "ipython3",
   "version": "3.4.3"
  }
 },
 "nbformat": 4,
 "nbformat_minor": 2
}
